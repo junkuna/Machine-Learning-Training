{
  "nbformat": 4,
  "nbformat_minor": 0,
  "metadata": {
    "colab": {
      "provenance": [],
      "authorship_tag": "ABX9TyNZ0h9MJtg2NVcevXUCTCj4",
      "include_colab_link": true
    },
    "kernelspec": {
      "name": "python3",
      "display_name": "Python 3"
    },
    "language_info": {
      "name": "python"
    }
  },
  "cells": [
    {
      "cell_type": "markdown",
      "metadata": {
        "id": "view-in-github",
        "colab_type": "text"
      },
      "source": [
        "<a href=\"https://colab.research.google.com/github/junkuna/Machine-Learning-Training/blob/main/5_3_Random_Forest.ipynb\" target=\"_parent\"><img src=\"https://colab.research.google.com/assets/colab-badge.svg\" alt=\"Open In Colab\"/></a>"
      ]
    },
    {
      "cell_type": "code",
      "execution_count": null,
      "metadata": {
        "colab": {
          "base_uri": "https://localhost:8080/"
        },
        "id": "li6GRvelk6hu",
        "outputId": "4dbd05ac-42b7-485d-b019-7b030e741701"
      },
      "outputs": [
        {
          "output_type": "stream",
          "name": "stdout",
          "text": [
            "The scores of DecisionTree through RandomForest are\n",
            "0.9973541965122431 0.8905151032797809\n",
            "[0.23167441 0.50039841 0.26792718]\n",
            "If we compare with previous features, the pH increased and sugar decreased\n",
            "0.8934000384837406\n",
            "The scores of DecisionTrees using ExtraTrees are \n",
            "0.9974503966084433 0.8887848893166506\n",
            "The feature importances through ExtraTrees are\n",
            "[0.20183568 0.52242907 0.27573525]\n",
            "0.8881086892152563 0.8720430147331015\n",
            "The model scores and feature importances with GradientBoosting are\n",
            "0.9464595437171814 0.8780082549788999\n",
            "[0.15872278 0.68010884 0.16116839]\n",
            "The model scores with Histogram Gradient Boosting are\n",
            "0.9321723946453317 0.8801241948619236\n",
            "[0.08876275 0.23438522 0.08027708]\n",
            "[0.05969231 0.20238462 0.049     ]\n",
            "0.9558403027491312 0.8782000074035686\n",
            "0.935828414851749 0.8801251203079884\n"
          ]
        }
      ],
      "source": [
        "# We need best model based on previous Decision Tree model using Random Forest\n",
        "import numpy as np\n",
        "import pandas as pd\n",
        "from sklearn.model_selection import train_test_split\n",
        "wine = pd.read_csv('https://raw.githubusercontent.com/rickiepark/hg-mldl/master/wine.csv')\n",
        "data = wine[['alcohol', 'sugar', 'pH']].to_numpy()\n",
        "target = wine['class'].to_numpy()\n",
        "\n",
        "train_input, test_input, train_target, test_target = train_test_split(\n",
        "    data, target, test_size=0.2, random_state=42)\n",
        "\n",
        "## train the model with RandomForest\n",
        "from sklearn.model_selection import cross_validate\n",
        "from sklearn.ensemble import RandomForestClassifier\n",
        "rf = RandomForestClassifier(n_jobs=-1, random_state=42)\n",
        "scores = cross_validate(rf, train_input, train_target,\n",
        "                        return_train_score=True, n_jobs=-1)\n",
        "print('The scores of DecisionTree through RandomForest are')\n",
        "print(np.mean(scores['train_score']), np.mean(scores['test_score']))\n",
        "\n",
        "### check the importance of feature\n",
        "### RandomForest support every features to get trained in random\n",
        "rf.fit(train_input, train_target)\n",
        "print(rf.feature_importances_)\n",
        "print('If we compare with previous features, the pH increased and sugar decreased')\n",
        "\n",
        "#### we can use left over of bootstrap sample to score the DecisionTree\n",
        "rf = RandomForestClassifier(oob_score=True, n_jobs=-1, random_state=42)\n",
        "rf.fit(train_input, train_target)\n",
        "print(rf.oob_score_)\n",
        "\n",
        "### Leverage ExtraTree to see the difference with RandomForest\n",
        "from sklearn.ensemble import ExtraTreesClassifier\n",
        "et = ExtraTreesClassifier(n_jobs=-1, random_state=42)\n",
        "scores = cross_validate(et, train_input, train_target,\n",
        "                        return_train_score=True, n_jobs=-1)\n",
        "print('The scores of DecisionTrees using ExtraTrees are ')\n",
        "print(np.mean(scores['train_score']), np.mean(scores['test_score']))\n",
        "\n",
        "et.fit(train_input, train_target)\n",
        "print('The feature importances through ExtraTrees are')\n",
        "print(et.feature_importances_)\n",
        "\n",
        "## Train the model with GradientBoosting\n",
        "from sklearn.ensemble import GradientBoostingClassifier\n",
        "gb = GradientBoostingClassifier(random_state=42)\n",
        "scores = cross_validate(gb, train_input, train_target,\n",
        "                        return_train_score=True, n_jobs=-1)\n",
        "print(np.mean(scores['train_score']), np.mean(scores['test_score']))\n",
        "\n",
        "gb = GradientBoostingClassifier(n_estimators=500, learning_rate=0.2,\n",
        "                                random_state=42)\n",
        "scores = cross_validate(gb, train_input, train_target,\n",
        "                        return_train_score=True, n_jobs=-1)\n",
        "print('The model scores and feature importances with GradientBoosting are')\n",
        "print(np.mean(scores['train_score']), np.mean(scores['test_score']))\n",
        "\n",
        "gb.fit(train_input, train_target)\n",
        "print(gb.feature_importances_)\n",
        "\n",
        "## Use Histogram-Based Gradient Boosting that is better than Gradient Boosting\n",
        "from sklearn.experimental import enable_hist_gradient_boosting\n",
        "from sklearn.ensemble import HistGradientBoostingClassifier\n",
        "hgb = HistGradientBoostingClassifier(random_state=42)\n",
        "scores = cross_validate(hgb, train_input, train_target, return_train_score=True)\n",
        "print('The model scores with Histogram Gradient Boosting are')\n",
        "print(np.mean(scores['train_score']), np.mean(scores['test_score']))\n",
        "\n",
        "## check the feature importance with mixing features by permutation importance\n",
        "### check the score of feature in train sets\n",
        "from sklearn.inspection import permutation_importance\n",
        "hgb.fit(train_input, train_target)\n",
        "result = permutation_importance(hgb, train_input, train_target,\n",
        "                               n_repeats=10, random_state=42, n_jobs=-1)\n",
        "print(result.importances_mean)\n",
        "\n",
        "### check the score of feature in test sets\n",
        "result = permutation_importance(hgb, test_input, test_target,\n",
        "                                n_repeats=10, random_state=42, n_jobs=-1)\n",
        "print(result.importances_mean)\n",
        "\n",
        "## check final feature importance\n",
        "hgb.score(test_input, test_target)\n",
        "\n",
        "## Check the score through XGBoost library\n",
        "from xgboost import XGBClassifier\n",
        "xgb = XGBClassifier(tree_method='hist', random_state=42)\n",
        "scores = cross_validate(xgb, train_input, train_target, return_train_score=True)\n",
        "print(np.mean(scores['train_score']), np.mean(scores['test_score']))\n",
        "\n",
        "## check the score through LightGBM\n",
        "from lightgbm import LGBMClassifier\n",
        "lgb = LGBMClassifier(random_state=42)\n",
        "scores = cross_validate(lgb, train_input, train_target, return_train_score=True, n_jobs=-1)\n",
        "print(np.mean(scores['train_score']), np.mean(scores['test_score']))"
      ]
    }
  ]
}